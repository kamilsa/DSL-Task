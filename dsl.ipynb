{
 "cells": [
  {
   "cell_type": "code",
   "execution_count": 1,
   "metadata": {
    "collapsed": false
   },
   "outputs": [
    {
     "name": "stderr",
     "output_type": "stream",
     "text": [
      "/home/kamil/miniconda3/envs/venv/lib/python3.5/site-packages/sklearn/cross_validation.py:44: DeprecationWarning: This module was deprecated in version 0.18 in favor of the model_selection module into which all the refactored classes and functions are moved. Also note that the interface of the new CV iterators are different from that of this module. This module will be removed in 0.20.\n",
      "  \"This module will be removed in 0.20.\", DeprecationWarning)\n",
      "/home/kamil/miniconda3/envs/venv/lib/python3.5/site-packages/sklearn/grid_search.py:43: DeprecationWarning: This module was deprecated in version 0.18 in favor of the model_selection module into which all the refactored classes and functions are moved. This module will be removed in 0.20.\n",
      "  DeprecationWarning)\n",
      "/home/kamil/miniconda3/envs/venv/lib/python3.5/site-packages/sklearn/learning_curve.py:23: DeprecationWarning: This module was deprecated in version 0.18 in favor of the model_selection module into which all the functions are moved. This module will be removed in 0.20\n",
      "  DeprecationWarning)\n"
     ]
    }
   ],
   "source": [
    "%matplotlib inline\n",
    "import matplotlib.pyplot as plt\n",
    "import csv\n",
    "from textblob import TextBlob\n",
    "import sklearn\n",
    "import numpy as np\n",
    "from sklearn.feature_extraction.text import CountVectorizer, TfidfTransformer\n",
    "from sklearn.naive_bayes import MultinomialNB, GaussianNB, BernoulliNB\n",
    "from sklearn.svm import SVC, LinearSVC\n",
    "from sklearn.metrics import classification_report, f1_score, accuracy_score, confusion_matrix\n",
    "from sklearn.pipeline import Pipeline\n",
    "from sklearn.grid_search import GridSearchCV\n",
    "from sklearn.cross_validation import StratifiedKFold, cross_val_score, train_test_split \n",
    "from sklearn.tree import DecisionTreeClassifier \n",
    "from sklearn.learning_curve import learning_curve\n",
    "import nltk"
   ]
  },
  {
   "cell_type": "code",
   "execution_count": 2,
   "metadata": {
    "collapsed": false
   },
   "outputs": [
    {
     "name": "stdout",
     "output_type": "stream",
     "text": [
      "Populating the interactive namespace from numpy and matplotlib\n"
     ]
    }
   ],
   "source": [
    "%pylab inline\n",
    "pylab.rcParams['figure.figsize'] = (10, 6)"
   ]
  },
  {
   "cell_type": "code",
   "execution_count": 3,
   "metadata": {
    "collapsed": true
   },
   "outputs": [],
   "source": [
    "import pandas as pd"
   ]
  },
  {
   "cell_type": "code",
   "execution_count": 4,
   "metadata": {
    "collapsed": true
   },
   "outputs": [],
   "source": [
    "import pickle\n",
    "\n",
    "train = pickle.load( open( \"TwitterLID-groundtruth/langid.train\", \"rb\" ) )\n",
    "test = pickle.load( open( \"TwitterLID-groundtruth/langid.test\", \"rb\" ) )\n",
    "\n",
    "twtrain = pd.DataFrame()\n",
    "twtrain['text'] = train[0]\n",
    "twtrain['lang'] = train[1]\n",
    "\n",
    "twtest = pd.DataFrame()\n",
    "twtest['text'] = test[0]\n",
    "twtest['lang'] = test[1]"
   ]
  },
  {
   "cell_type": "code",
   "execution_count": 5,
   "metadata": {
    "collapsed": false
   },
   "outputs": [],
   "source": [
    "from nltk import ngrams\n",
    "def split_into_tokens(message):\n",
    "    return message.split()\n",
    "def split_into_bigram_tokens(message):\n",
    "    res = []\n",
    "    res += [x for x in ngrams(message.split(),2)]\n",
    "    return res\n",
    "def split_into_bigrams(message):\n",
    "    res = []\n",
    "    for word in message.split():\n",
    "        res+=[''.join(x) for x in [x for x in ngrams(word, 2)]]\n",
    "    return res\n",
    "def split_into_trigrams(message):\n",
    "    res = []\n",
    "    for word in message.split():\n",
    "        res+=[''.join(x) for x in [x for x in ngrams(word, 3)]]\n",
    "    return res\n",
    "def split_into_fourgrams(message):\n",
    "    res = []\n",
    "    for word in message.split():\n",
    "        res+=[''.join(x) for x in [x for x in ngrams(word, 2)]]\n",
    "    return res\n",
    "\n",
    "import itertools\n",
    "import numpy as np\n",
    "import matplotlib.pyplot as plt\n",
    "\n",
    "from sklearn import svm, datasets\n",
    "\n",
    "from sklearn.metrics import confusion_matrix\n",
    "\n",
    "def plot_confusion_matrix(cm, classes,\n",
    "                          normalize=False,\n",
    "                          title='Confusion matrix',\n",
    "                          cmap=plt.cm.Blues):\n",
    "    \"\"\"\n",
    "    This function prints and plots the confusion matrix.\n",
    "    Normalization can be applied by setting normalize=True.\n",
    "    \"\"\"\n",
    "    plt.imshow(cm, interpolation='nearest', cmap=cmap)\n",
    "    plt.title(title)\n",
    "    plt.colorbar()\n",
    "    tick_marks = np.arange(len(classes))\n",
    "    plt.xticks(tick_marks, classes, rotation=45)\n",
    "    plt.yticks(tick_marks, classes)\n",
    "\n",
    "    if normalize:\n",
    "        cm = cm.astype('float') / cm.sum(axis=1)[:, np.newaxis]\n",
    "        print(\"Normalized confusion matrix\")\n",
    "    else:\n",
    "        print('Confusion matrix, without normalization')\n",
    "\n",
    "\n",
    "\n",
    "    thresh = cm.max() / 2.\n",
    "    for i, j in itertools.product(range(cm.shape[0]), range(cm.shape[1])):\n",
    "        plt.text(j, i, '{:.2f}'.format(cm[i, j]),\n",
    "                 horizontalalignment=\"center\",\n",
    "                 color=\"white\" if cm[i, j] > thresh else \"black\")\n",
    "\n",
    "    plt.tight_layout()\n",
    "    plt.ylabel('True label')\n",
    "    plt.xlabel('Predicted label')"
   ]
  },
  {
   "cell_type": "markdown",
   "metadata": {},
   "source": [
    "# Baseline model\n",
    "Multinomial Naive bayes classifier. Features: words"
   ]
  },
  {
   "cell_type": "code",
   "execution_count": 7,
   "metadata": {
    "collapsed": false
   },
   "outputs": [
    {
     "name": "stdout",
     "output_type": "stream",
     "text": [
      "Train data size: 1389\n",
      "Best parameters set found on development set:\n",
      "\n",
      "{'nb__alpha': 0.1}\n",
      "\n",
      "Best score: 0.910\n"
     ]
    }
   ],
   "source": [
    "pipeline = Pipeline([\n",
    "    ('bow', CountVectorizer(analyzer=split_into_tokens)),  # strings to token integer counts\n",
    "    ('tfidf', TfidfTransformer()),  # integer counts to weighted TF-IDF scores\n",
    "    ('nb', MultinomialNB()),  # train on TF-IDF vectors w/ Naive Bayes classifier\n",
    "])\n",
    "\n",
    "parameters = {\n",
    "    'nb__alpha':[0.1,0.2,0.3,0.4,0.5,0.6,0.7,0.8,0.9,1.0]\n",
    "}\n",
    "X_train, X_test, y_train, y_test = twtrain['text'], twtest['text'], twtrain['lang'], twtest['lang']\n",
    "print(\"Train data size: %d\" % len(X_train))\n",
    "clf = GridSearchCV(pipeline, parameters, cv=3, n_jobs=-1)\n",
    "clf.fit(X_train, y_train)\n",
    "\n",
    "print(\"Best parameters set found on development set:\")\n",
    "print()\n",
    "print(clf.best_params_)\n",
    "print()\n",
    "\n",
    "print(\"Best score: %0.3f\" % clf.best_score_)"
   ]
  },
  {
   "cell_type": "code",
   "execution_count": 8,
   "metadata": {
    "collapsed": false
   },
   "outputs": [
    {
     "name": "stdout",
     "output_type": "stream",
     "text": [
      "Normalized confusion matrix\n"
     ]
    },
    {
     "data": {
      "image/png": "[encoded data removed]",
      "text/plain": [
       "<matplotlib.figure.Figure at 0x7ff31ec3ea58>"
      ]
     },
     "metadata": {},
     "output_type": "display_data"
    }
   ],
   "source": [
    "# Compute confusion matrix\n",
    "y_pred = clf.predict(X_test)\n",
    "cnf_matrix = confusion_matrix(y_pred, y_test)\n",
    "np.set_printoptions(precision=3)\n",
    "\n",
    "# Plot normalized confusion matrix\n",
    "plot_confusion_matrix(cnf_matrix, classes=twtrain.lang.unique(), normalize=True,\n",
    "                      title='Normalized confusion matrix')\n",
    "fig = plt.Figure()\n",
    "fig.set_canvas(plt.gcf().canvas)\n",
    "# fig.savefig('{}{}{}gram_cm_{}.pdf'.format(stops,mode,ngrams, classif), format='pdf')"
   ]
  },
  {
   "cell_type": "code",
   "execution_count": 9,
   "metadata": {
    "collapsed": false
   },
   "outputs": [
    {
     "name": "stdout",
     "output_type": "stream",
     "text": [
      "             precision    recall  f1-score   support\n",
      "\n",
      "     german      0.953     0.911     0.931       313\n",
      "    english      0.913     0.910     0.912       334\n",
      "    spanish      0.925     0.930     0.928       359\n",
      "     french      0.984     0.924     0.953       328\n",
      "      dutch      0.859     0.933     0.894       386\n",
      "\n",
      "avg / total      0.924     0.922     0.923      1720\n",
      "\n"
     ]
    }
   ],
   "source": [
    "print(sklearn.metrics.classification_report(y_test, y_pred, target_names=twtest.lang.unique(), digits=3))"
   ]
  },
  {
   "cell_type": "markdown",
   "metadata": {},
   "source": [
    "# Naive bayes. Features: character bigrams"
   ]
  },
  {
   "cell_type": "code",
   "execution_count": 11,
   "metadata": {
    "collapsed": false
   },
   "outputs": [
    {
     "name": "stdout",
     "output_type": "stream",
     "text": [
      "Train data size: 1389\n",
      "Best parameters set found on development set:\n",
      "\n",
      "{'nb__alpha': 0.6}\n",
      "\n",
      "Best score: 0.871\n"
     ]
    }
   ],
   "source": [
    "pipeline = Pipeline([\n",
    "    ('bow', CountVectorizer(analyzer=split_into_bigrams)),  # strings to token integer counts\n",
    "    ('tfidf', TfidfTransformer()),  # integer counts to weighted TF-IDF scores\n",
    "    ('nb', MultinomialNB()),  # train on TF-IDF vectors w/ Naive Bayes classifier\n",
    "])\n",
    "\n",
    "parameters = {\n",
    "    'nb__alpha':[0.1,0.2,0.3,0.4,0.5,0.6,0.7,0.8,0.9,1.0]\n",
    "}\n",
    "X_train, X_test, y_train, y_test = twtrain['text'], twtest['text'], twtrain['lang'], twtest['lang']\n",
    "print(\"Train data size: %d\" % len(X_train))\n",
    "clf = GridSearchCV(pipeline, parameters, cv=3, n_jobs=-1)\n",
    "clf.fit(X_train, y_train)\n",
    "\n",
    "print(\"Best parameters set found on development set:\")\n",
    "print()\n",
    "print(clf.best_params_)\n",
    "print()\n",
    "\n",
    "print(\"Best score: %0.3f\" % clf.best_score_)"
   ]
  },
  {
   "cell_type": "code",
   "execution_count": 12,
   "metadata": {
    "collapsed": false
   },
   "outputs": [
    {
     "name": "stdout",
     "output_type": "stream",
     "text": [
      "             precision    recall  f1-score   support\n",
      "\n",
      "     german      0.901     0.869     0.885       313\n",
      "    english      0.845     0.847     0.846       334\n",
      "    spanish      0.890     0.852     0.871       359\n",
      "     french      0.895     0.933     0.913       328\n",
      "      dutch      0.866     0.891     0.879       386\n",
      "\n",
      "avg / total      0.879     0.878     0.878      1720\n",
      "\n"
     ]
    }
   ],
   "source": [
    "y_pred = clf.predict(X_test)\n",
    "print(sklearn.metrics.classification_report(y_test, y_pred, target_names=twtest.lang.unique(), digits=3))"
   ]
  },
  {
   "cell_type": "markdown",
   "metadata": {},
   "source": [
    "# Naive Bayes. Features: character trigrams"
   ]
  },
  {
   "cell_type": "code",
   "execution_count": 14,
   "metadata": {
    "collapsed": false
   },
   "outputs": [
    {
     "name": "stdout",
     "output_type": "stream",
     "text": [
      "Train data size: 1389\n",
      "Best parameters set found on development set:\n",
      "\n",
      "{'nb__alpha': 0.2}\n",
      "\n",
      "Best score: 0.899\n"
     ]
    }
   ],
   "source": [
    "pipeline = Pipeline([\n",
    "    ('bow', CountVectorizer(analyzer=split_into_trigrams)),  # strings to token integer counts\n",
    "    ('tfidf', TfidfTransformer()),  # integer counts to weighted TF-IDF scores\n",
    "    ('nb', MultinomialNB()),  # train on TF-IDF vectors w/ Naive Bayes classifier\n",
    "])\n",
    "\n",
    "parameters = {\n",
    "    'nb__alpha':[0.1,0.2,0.3,0.4,0.5,0.6,0.7,0.8,0.9,1.0]\n",
    "}\n",
    "X_train, X_test, y_train, y_test = twtrain['text'], twtest['text'], twtrain['lang'], twtest['lang']\n",
    "print(\"Train data size: %d\" % len(X_train))\n",
    "clf = GridSearchCV(pipeline, parameters, cv=3, n_jobs=-1)\n",
    "clf.fit(X_train, y_train)\n",
    "\n",
    "print(\"Best parameters set found on development set:\")\n",
    "print()\n",
    "print(clf.best_params_)\n",
    "print()\n",
    "\n",
    "print(\"Best score: %0.3f\" % clf.best_score_)"
   ]
  },
  {
   "cell_type": "code",
   "execution_count": 15,
   "metadata": {
    "collapsed": false
   },
   "outputs": [
    {
     "name": "stdout",
     "output_type": "stream",
     "text": [
      "             precision    recall  f1-score   support\n",
      "\n",
      "     german      0.948     0.923     0.935       313\n",
      "    english      0.877     0.871     0.874       334\n",
      "    spanish      0.890     0.880     0.885       359\n",
      "     french      0.947     0.973     0.959       328\n",
      "      dutch      0.908     0.920     0.914       386\n",
      "\n",
      "avg / total      0.913     0.913     0.913      1720\n",
      "\n"
     ]
    }
   ],
   "source": [
    "y_pred = clf.predict(X_test)\n",
    "print(sklearn.metrics.classification_report(y_test, y_pred, target_names=twtest.lang.unique(), digits=3))"
   ]
  },
  {
   "cell_type": "markdown",
   "metadata": {},
   "source": [
    "# Naive Bayes. Features: 4grams"
   ]
  },
  {
   "cell_type": "code",
   "execution_count": 16,
   "metadata": {
    "collapsed": false
   },
   "outputs": [
    {
     "name": "stdout",
     "output_type": "stream",
     "text": [
      "Train data size: 1389\n",
      "Fitting 3 folds for each of 10 candidates, totalling 30 fits\n"
     ]
    },
    {
     "name": "stderr",
     "output_type": "stream",
     "text": [
      "[Parallel(n_jobs=10)]: Done  30 out of  30 | elapsed:    0.7s finished\n"
     ]
    },
    {
     "name": "stdout",
     "output_type": "stream",
     "text": [
      "Best parameters set found on development set:\n",
      "\n",
      "{'nb__alpha': 0.6}\n",
      "\n",
      "Best score: 0.871\n"
     ]
    }
   ],
   "source": [
    "pipeline = Pipeline([\n",
    "    ('bow', CountVectorizer(analyzer=split_into_fourgrams)),  # strings to token integer counts\n",
    "    ('tfidf', TfidfTransformer()),  # integer counts to weighted TF-IDF scores\n",
    "    ('nb', MultinomialNB()),  # train on TF-IDF vectors w/ Naive Bayes classifier\n",
    "])\n",
    "\n",
    "parameters = {\n",
    "    'nb__alpha':[0.1,0.2,0.3,0.4,0.5,0.6,0.7,0.8,0.9,1.0]\n",
    "}\n",
    "X_train, X_test, y_train, y_test = twtrain['text'], twtest['text'], twtrain['lang'], twtest['lang']\n",
    "print(\"Train data size: %d\" % len(X_train))\n",
    "clf = GridSearchCV(pipeline, parameters, cv=3, n_jobs=10, verbose=1)\n",
    "clf.fit(X_train, y_train)\n",
    "\n",
    "print(\"Best parameters set found on development set:\")\n",
    "print()\n",
    "print(clf.best_params_)\n",
    "print()\n",
    "\n",
    "print(\"Best score: %0.3f\" % clf.best_score_)"
   ]
  },
  {
   "cell_type": "code",
   "execution_count": 17,
   "metadata": {
    "collapsed": false
   },
   "outputs": [
    {
     "name": "stdout",
     "output_type": "stream",
     "text": [
      "             precision    recall  f1-score   support\n",
      "\n",
      "     german      0.901     0.869     0.885       313\n",
      "    english      0.845     0.847     0.846       334\n",
      "    spanish      0.890     0.852     0.871       359\n",
      "     french      0.895     0.933     0.913       328\n",
      "      dutch      0.866     0.891     0.879       386\n",
      "\n",
      "avg / total      0.879     0.878     0.878      1720\n",
      "\n"
     ]
    }
   ],
   "source": [
    "y_pred = clf.predict(X_test)\n",
    "print(sklearn.metrics.classification_report(y_test, y_pred, target_names=twtest.lang.unique(), digits=3))"
   ]
  },
  {
   "cell_type": "markdown",
   "metadata": {},
   "source": [
    "# Naive bayes with word bigrams"
   ]
  },
  {
   "cell_type": "code",
   "execution_count": 18,
   "metadata": {
    "collapsed": false
   },
   "outputs": [
    {
     "name": "stdout",
     "output_type": "stream",
     "text": [
      "Train data size: 1389\n",
      "Fitting 3 folds for each of 10 candidates, totalling 30 fits\n"
     ]
    },
    {
     "name": "stderr",
     "output_type": "stream",
     "text": [
      "[Parallel(n_jobs=10)]: Done  11 out of  30 | elapsed:    0.2s remaining:    0.4s\n"
     ]
    },
    {
     "name": "stdout",
     "output_type": "stream",
     "text": [
      "Best parameters set found on development set:\n",
      "\n",
      "{'nb__alpha': 0.1}\n",
      "\n",
      "Best score: 0.462\n"
     ]
    },
    {
     "name": "stderr",
     "output_type": "stream",
     "text": [
      "[Parallel(n_jobs=10)]: Done  30 out of  30 | elapsed:    0.5s finished\n"
     ]
    }
   ],
   "source": [
    "pipeline = Pipeline([\n",
    "    ('bow', CountVectorizer(analyzer=split_into_bigram_tokens)),  # strings to token integer counts\n",
    "    ('tfidf', TfidfTransformer()),  # integer counts to weighted TF-IDF scores\n",
    "    ('nb', MultinomialNB()),  # train on TF-IDF vectors w/ Naive Bayes classifier\n",
    "])\n",
    "\n",
    "parameters = {\n",
    "    'nb__alpha':[0.1,0.2,0.3,0.4,0.5,0.6,0.7,0.8,0.9,1.0]\n",
    "}\n",
    "X_train, X_test, y_train, y_test = twtrain['text'], twtest['text'], twtrain['lang'], twtest['lang']\n",
    "print(\"Train data size: %d\" % len(X_train))\n",
    "clf = GridSearchCV(pipeline, parameters, cv=3, n_jobs=10, verbose=1)\n",
    "clf.fit(X_train, y_train)\n",
    "\n",
    "print(\"Best parameters set found on development set:\")\n",
    "print()\n",
    "print(clf.best_params_)\n",
    "print()\n",
    "\n",
    "print(\"Best score: %0.3f\" % clf.best_score_)"
   ]
  },
  {
   "cell_type": "code",
   "execution_count": 19,
   "metadata": {
    "collapsed": false
   },
   "outputs": [
    {
     "name": "stdout",
     "output_type": "stream",
     "text": [
      "             precision    recall  f1-score   support\n",
      "\n",
      "     german      0.988     0.524     0.685       313\n",
      "    english      0.943     0.398     0.560       334\n",
      "    spanish      0.977     0.476     0.640       359\n",
      "     french      0.980     0.299     0.458       328\n",
      "      dutch      0.333     0.982     0.497       386\n",
      "\n",
      "avg / total      0.829     0.549     0.566      1720\n",
      "\n"
     ]
    }
   ],
   "source": [
    "y_pred = clf.predict(X_test)\n",
    "print(sklearn.metrics.classification_report(y_test, y_pred, target_names=twtest.lang.unique(), digits=3))"
   ]
  },
  {
   "cell_type": "markdown",
   "metadata": {},
   "source": [
    "# SVM"
   ]
  },
  {
   "cell_type": "code",
   "execution_count": 20,
   "metadata": {
    "collapsed": false
   },
   "outputs": [
    {
     "name": "stdout",
     "output_type": "stream",
     "text": [
      "Train data size: 1389\n",
      "Best parameters set found on development set:\n",
      "\n",
      "{'svc__gamma': 0.01, 'svc__C': 100, 'svc__kernel': 'rbf'}\n",
      "\n",
      "Grid scores on development set:\n",
      "\n",
      "0.886 (+/-0.038) for {'svc__gamma': 0.01, 'svc__C': 100, 'svc__kernel': 'rbf'}\n",
      "CPU times: user 920 ms, sys: 412 ms, total: 1.33 s\n",
      "Wall time: 2.2 s\n"
     ]
    }
   ],
   "source": [
    "%%time\n",
    "from sklearn.svm import SVC\n",
    "from sklearn.model_selection import GridSearchCV\n",
    "\n",
    "pipeline = Pipeline([\n",
    "    ('bow', CountVectorizer(analyzer=split_into_tokens)),  # strings to token integer counts\n",
    "    ('tfidf', TfidfTransformer()),  # integer counts to weighted TF-IDF scores\n",
    "    ('svc', SVC()),  # train on TF-IDF vectors w/ Naive Bayes classifier\n",
    "])\n",
    "\n",
    "parameters = [{'svc__kernel': ['rbf'], 'svc__gamma': [1e-2, 1e-3, 1e-4],'svc__C': [1, 10, 100, 1000]},\n",
    "    {'svc__kernel': ['linear'], 'svc__C': [1, 10, 100, 1000]}]\n",
    "\n",
    "X_train, X_test, y_train, y_test = twtrain['text'], twtest['text'], twtrain['lang'], twtest['lang']\n",
    "print(\"Train data size: %d\" % len(X_train))\n",
    "clf = GridSearchCV(pipeline, parameters, cv=3, n_jobs=-1)\n",
    "clf.fit(X_train, y_train)\n",
    "\n",
    "print(\"Best parameters set found on development set:\")\n",
    "print()\n",
    "print(clf.best_params_)\n",
    "print()\n",
    "print(\"Grid scores on development set:\")\n",
    "print()\n",
    "means = clf.cv_results_['mean_test_score']\n",
    "stds = clf.cv_results_['std_test_score']\n",
    "res = None\n",
    "cur_max = -1\n",
    "for mean, std, params in zip(means, stds, clf.cv_results_['params']):\n",
    "    if mean > cur_max:\n",
    "        cur_max = mean\n",
    "        res = \"%0.3f (+/-%0.03f) for %r\" % (mean, std * 2, params)\n",
    "print(res)"
   ]
  },
  {
   "cell_type": "code",
   "execution_count": 21,
   "metadata": {
    "collapsed": false
   },
   "outputs": [
    {
     "name": "stdout",
     "output_type": "stream",
     "text": [
      "Normalized confusion matrix\n"
     ]
    },
    {
     "data": {
      "image/png": "[encoded data removed]",
      "text/plain": [
       "<matplotlib.figure.Figure at 0x7ff319c0ca90>"
      ]
     },
     "metadata": {},
     "output_type": "display_data"
    }
   ],
   "source": [
    "# Compute confusion matrix\n",
    "y_pred = clf.predict(X_test)\n",
    "cnf_matrix = confusion_matrix(y_pred, y_test)\n",
    "np.set_printoptions(precision=3)\n",
    "\n",
    "# Plot normalized confusion matrix\n",
    "plot_confusion_matrix(cnf_matrix, classes=twtrain.lang.unique(), normalize=True,\n",
    "                      title='Normalized confusion matrix')\n",
    "fig = plt.Figure()\n",
    "fig.set_canvas(plt.gcf().canvas)\n",
    "# fig.savefig('{}{}{}gram_cm_{}.pdf'.format(stops,mode,ngrams, classif), format='pdf')"
   ]
  },
  {
   "cell_type": "code",
   "execution_count": 22,
   "metadata": {
    "collapsed": false
   },
   "outputs": [
    {
     "name": "stdout",
     "output_type": "stream",
     "text": [
      "             precision    recall  f1-score   support\n",
      "\n",
      "     german      0.972     0.872     0.919       313\n",
      "    english      0.876     0.907     0.891       334\n",
      "    spanish      0.909     0.914     0.911       359\n",
      "     french      0.848     0.939     0.891       328\n",
      "      dutch      0.916     0.876     0.895       386\n",
      "\n",
      "avg / total      0.904     0.901     0.901      1720\n",
      "\n"
     ]
    }
   ],
   "source": [
    "y_pred = clf.predict(X_test)\n",
    "print(sklearn.metrics.classification_report(y_test, y_pred, target_names=twtest.lang.unique(), digits=3))"
   ]
  },
  {
   "cell_type": "markdown",
   "metadata": {},
   "source": [
    "# Ada boost"
   ]
  },
  {
   "cell_type": "code",
   "execution_count": 23,
   "metadata": {
    "collapsed": false
   },
   "outputs": [
    {
     "name": "stdout",
     "output_type": "stream",
     "text": [
      "Train data size: 1389\n",
      "Best parameters set found on development set:\n",
      "\n",
      "{'ada__n_estimators': 300, 'ada__algorithm': 'SAMME', 'ada__base_estimator': DecisionTreeClassifier(class_weight=None, criterion='gini', max_depth=3,\n",
      "            max_features=None, max_leaf_nodes=None,\n",
      "            min_impurity_split=1e-07, min_samples_leaf=1,\n",
      "            min_samples_split=2, min_weight_fraction_leaf=0.0,\n",
      "            presort=False, random_state=None, splitter='best')}\n",
      "\n",
      "Grid scores on development set:\n",
      "\n",
      "0.765 (+/-0.051) for {'ada__n_estimators': 300, 'ada__algorithm': 'SAMME', 'ada__base_estimator': DecisionTreeClassifier(class_weight=None, criterion='gini', max_depth=3,\n",
      "            max_features=None, max_leaf_nodes=None,\n",
      "            min_impurity_split=1e-07, min_samples_leaf=1,\n",
      "            min_samples_split=2, min_weight_fraction_leaf=0.0,\n",
      "            presort=False, random_state=None, splitter='best')}\n"
     ]
    }
   ],
   "source": [
    "from sklearn.ensemble import RandomForestClassifier, AdaBoostClassifier, BaggingClassifier\n",
    "from sklearn.tree import DecisionTreeClassifier\n",
    "\n",
    "pipeline = Pipeline([\n",
    "    ('bow', CountVectorizer(analyzer=split_into_tokens)),  # strings to token integer counts\n",
    "    ('tfidf', TfidfTransformer()),  # integer counts to weighted TF-IDF scores\n",
    "    ('ada', AdaBoostClassifier()),  # train on TF-IDF vectors w/ Naive Bayes classifier\n",
    "])\n",
    "\n",
    "parameters = {\n",
    "    'ada__base_estimator': [DecisionTreeClassifier(max_depth=1), DecisionTreeClassifier(max_depth=2), DecisionTreeClassifier(max_depth=3)],\n",
    "    'ada__algorithm': ['SAMME.R','SAMME'],\n",
    "    'ada__n_estimators': [300]\n",
    "}\n",
    "X_train, X_test, y_train, y_test = twtrain['text'], twtest['text'], twtrain['lang'], twtest['lang']\n",
    "print(\"Train data size: %d\" % len(X_train))\n",
    "clf = GridSearchCV(pipeline, parameters, cv=3, n_jobs=-1)\n",
    "clf.fit(X_train, y_train)\n",
    "\n",
    "print(\"Best parameters set found on development set:\")\n",
    "print()\n",
    "print(clf.best_params_)\n",
    "print()\n",
    "print(\"Grid scores on development set:\")\n",
    "print()\n",
    "means = clf.cv_results_['mean_test_score']\n",
    "stds = clf.cv_results_['std_test_score']\n",
    "res = None\n",
    "cur_max = -1\n",
    "for mean, std, params in zip(means, stds, clf.cv_results_['params']):\n",
    "    if mean > cur_max:\n",
    "        cur_max = mean\n",
    "        res = \"%0.3f (+/-%0.03f) for %r\" % (mean, std * 2, params)\n",
    "print(res)"
   ]
  },
  {
   "cell_type": "code",
   "execution_count": 24,
   "metadata": {
    "collapsed": false
   },
   "outputs": [
    {
     "name": "stdout",
     "output_type": "stream",
     "text": [
      "             precision    recall  f1-score   support\n",
      "\n",
      "     german      0.991     0.738     0.846       313\n",
      "    english      0.559     0.937     0.700       334\n",
      "    spanish      0.923     0.738     0.820       359\n",
      "     french      0.953     0.741     0.834       328\n",
      "      dutch      0.795     0.793     0.794       386\n",
      "\n",
      "avg / total      0.842     0.790     0.798      1720\n",
      "\n"
     ]
    }
   ],
   "source": [
    "y_pred = clf.predict(X_test)\n",
    "print(sklearn.metrics.classification_report(y_test, y_pred, target_names=twtest.lang.unique(), digits=3))"
   ]
  },
  {
   "cell_type": "markdown",
   "metadata": {},
   "source": [
    "# Recursive feature elimination"
   ]
  },
  {
   "cell_type": "code",
   "execution_count": 25,
   "metadata": {
    "collapsed": false,
    "scrolled": true
   },
   "outputs": [
    {
     "name": "stdout",
     "output_type": "stream",
     "text": [
      "10344\n"
     ]
    }
   ],
   "source": [
    "bow_transformer = CountVectorizer(analyzer=split_into_tokens).fit(twtrain['text'])\n",
    "print(len(bow_transformer.vocabulary_))"
   ]
  },
  {
   "cell_type": "code",
   "execution_count": 26,
   "metadata": {
    "collapsed": false
   },
   "outputs": [
    {
     "data": {
      "text/plain": [
       "['melden!!!',\n",
       " 'Euch',\n",
       " 'am',\n",
       " 'Aktive',\n",
       " 'Enjoy',\n",
       " '#Stadt',\n",
       " 'cabeza',\n",
       " 'brng',\n",
       " '#drogerie',\n",
       " 'Opera']"
      ]
     },
     "execution_count": 26,
     "metadata": {},
     "output_type": "execute_result"
    }
   ],
   "source": [
    "list(bow_transformer.vocabulary_)[:10]"
   ]
  },
  {
   "cell_type": "code",
   "execution_count": 27,
   "metadata": {
    "collapsed": false
   },
   "outputs": [
    {
     "name": "stdout",
     "output_type": "stream",
     "text": [
      "sparse matrix shape: (1389, 10344)\n",
      "number of non-zeros: 17411\n",
      "sparsity: 0.12%\n"
     ]
    }
   ],
   "source": [
    "messages_bow = bow_transformer.transform(twtrain['text'])\n",
    "test_bow = bow_transformer.transform(twtest['text'])\n",
    "print('sparse matrix shape:', messages_bow.shape)\n",
    "print('number of non-zeros:', messages_bow.nnz)\n",
    "print('sparsity: %.2f%%' % (100.0 * messages_bow.nnz / (messages_bow.shape[0] * messages_bow.shape[1])))"
   ]
  },
  {
   "cell_type": "code",
   "execution_count": 28,
   "metadata": {
    "collapsed": false
   },
   "outputs": [
    {
     "name": "stdout",
     "output_type": "stream",
     "text": [
      "CPU times: user 4 ms, sys: 0 ns, total: 4 ms\n",
      "Wall time: 2.48 ms\n"
     ]
    }
   ],
   "source": [
    "%%time\n",
    "tfidf_transformer = TfidfTransformer().fit(messages_bow)"
   ]
  },
  {
   "cell_type": "code",
   "execution_count": 29,
   "metadata": {
    "collapsed": false
   },
   "outputs": [],
   "source": [
    "tfidf4 = tfidf_transformer.transform(messages_bow)\n",
    "X_test=tfidf_transformer.transform(test_bow)"
   ]
  },
  {
   "cell_type": "code",
   "execution_count": 30,
   "metadata": {
    "collapsed": false
   },
   "outputs": [],
   "source": [
    "from sklearn.model_selection import train_test_split\n",
    "# X_train, X_test, y_train, y_test = train_test_split(tfidf4, twtrain['lang'], test_size=0.33, random_state=42)\n",
    "X_train, X_test, y_train, y_test = tfidf4, X_test, twtrain['lang'], twtest['lang']"
   ]
  },
  {
   "cell_type": "code",
   "execution_count": 31,
   "metadata": {
    "collapsed": false
   },
   "outputs": [
    {
     "name": "stdout",
     "output_type": "stream",
     "text": [
      "Optimal number of features : 10344\n",
      "[ 0.222  0.222  0.222  0.222  0.222  0.222  0.222  0.254  0.343  0.397\n",
      "  0.426  0.463  0.477  0.498  0.517  0.544  0.557  0.569  0.59   0.631\n",
      "  0.711  0.909]\n"
     ]
    }
   ],
   "source": [
    "from sklearn.feature_selection import RFECV\n",
    "rfecv = RFECV(estimator=MultinomialNB(alpha=0.2), step=0.05, scoring='accuracy',verbose=1, n_jobs=-1)\n",
    "rfecv.fit(X_train, y_train)\n",
    "print(\"Optimal number of features : %d\" % rfecv.n_features_)\n",
    "print(rfecv.grid_scores_)"
   ]
  },
  {
   "cell_type": "code",
   "execution_count": 32,
   "metadata": {
    "collapsed": false
   },
   "outputs": [
    {
     "name": "stdout",
     "output_type": "stream",
     "text": [
      "Normalized confusion matrix\n"
     ]
    },
    {
     "data": {
      "image/png": "[encoded data removed]",
      "text/plain": [
       "<matplotlib.figure.Figure at 0x7ff35f900080>"
      ]
     },
     "metadata": {},
     "output_type": "display_data"
    }
   ],
   "source": [
    "# Compute confusion matrix\n",
    "y_pred = rfecv.predict(X_test)\n",
    "cnf_matrix = confusion_matrix(y_pred, y_test)\n",
    "np.set_printoptions(precision=3)\n",
    "\n",
    "# Plot normalized confusion matrix\n",
    "plot_confusion_matrix(cnf_matrix, classes=twtrain.lang.unique(), normalize=True,\n",
    "                      title='Normalized confusion matrix')\n",
    "fig = plt.Figure()\n",
    "fig.set_canvas(plt.gcf().canvas)\n",
    "# fig.savefig('{}{}{}gram_cm_{}.pdf'.format(stops,mode,ngrams, classif), format='pdf')"
   ]
  },
  {
   "cell_type": "code",
   "execution_count": 33,
   "metadata": {
    "collapsed": false
   },
   "outputs": [
    {
     "name": "stdout",
     "output_type": "stream",
     "text": [
      "             precision    recall  f1-score   support\n",
      "\n",
      "     german      0.960     0.911     0.934       313\n",
      "    english      0.914     0.919     0.916       334\n",
      "    spanish      0.923     0.930     0.926       359\n",
      "     french      0.984     0.924     0.953       328\n",
      "      dutch      0.866     0.935     0.899       386\n",
      "\n",
      "avg / total      0.927     0.924     0.925      1720\n",
      "\n"
     ]
    }
   ],
   "source": [
    "y_pred = rfecv.predict(X_test)\n",
    "print(sklearn.metrics.classification_report(y_test, y_pred, target_names=twtest.lang.unique(), digits=3))"
   ]
  },
  {
   "cell_type": "code",
   "execution_count": 34,
   "metadata": {
    "collapsed": false
   },
   "outputs": [
    {
     "name": "stdout",
     "output_type": "stream",
     "text": [
      "0.924418604651\n"
     ]
    }
   ],
   "source": [
    "print(rfecv.score(X_test, y_test))"
   ]
  }
 ],
 "metadata": {
  "anaconda-cloud": {},
  "kernelspec": {
   "display_name": "Python [conda env:venv]",
   "language": "python",
   "name": "conda-env-venv-py"
  },
  "language_info": {
   "codemirror_mode": {
    "name": "ipython",
    "version": 3
   },
   "file_extension": ".py",
   "mimetype": "text/x-python",
   "name": "python",
   "nbconvert_exporter": "python",
   "pygments_lexer": "ipython3",
   "version": "3.5.2"
  }
 },
 "nbformat": 4,
 "nbformat_minor": 1
}
